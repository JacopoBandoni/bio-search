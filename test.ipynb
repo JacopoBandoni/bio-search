{
 "cells": [
  {
   "cell_type": "code",
   "execution_count": 1,
   "metadata": {},
   "outputs": [],
   "source": [
    "from pubmad import get_graph, display_graph, get_communities, filter_by_name, filter_by_category"
   ]
  },
  {
   "cell_type": "code",
   "execution_count": 2,
   "metadata": {},
   "outputs": [
    {
     "name": "stdout",
     "output_type": "stream",
     "text": [
      "Loading from cache...\n"
     ]
    },
    {
     "name": "stderr",
     "output_type": "stream",
     "text": [
      "100%|██████████| 9/9 [00:00<00:00, 1345.29it/s]"
     ]
    },
    {
     "name": "stdout",
     "output_type": "stream",
     "text": [
      "Loading cached relations and entities\n",
      "Loading cached relations and entities\n",
      "Loading cached relations and entities\n",
      "Loading cached relations and entities\n",
      "Loading cached relations and entities\n",
      "Loading cached relations and entities\n",
      "Loading cached relations and entities\n",
      "Loading cached relations and entities\n",
      "Loading cached relations and entities\n",
      "Graph saved in: output/diabetes_1800_2022_10_abstract_BioBert.graphml\n"
     ]
    },
    {
     "name": "stderr",
     "output_type": "stream",
     "text": [
      "\n"
     ]
    }
   ],
   "source": [
    "G = get_graph('diabetes', max_publications=10, use_biobert=True, clear_cache=False)"
   ]
  },
  {
   "cell_type": "code",
   "execution_count": 3,
   "metadata": {},
   "outputs": [],
   "source": [
    "nodes = filter_by_name(G, 'insulin')"
   ]
  },
  {
   "cell_type": "code",
   "execution_count": 4,
   "metadata": {},
   "outputs": [
    {
     "data": {
      "text/plain": [
       "[{'mention': 'insulin', 'type': 'gene', 'pmid': '29659364'}]"
      ]
     },
     "execution_count": 4,
     "metadata": {},
     "output_type": "execute_result"
    }
   ],
   "source": [
    "nodes"
   ]
  },
  {
   "cell_type": "code",
   "execution_count": 5,
   "metadata": {},
   "outputs": [
    {
     "name": "stdout",
     "output_type": "stream",
     "text": [
      "[{'mention': 'insulin', 'type': 'gene', 'pmid': '29659364'}, {'mention': 'desmopressin', 'type': 'gene', 'pmid': '29659364,29659364,33162476'}, {'mention': 'vasopressin', 'type': 'gene', 'pmid': '34993537,34238462,34238462,34238462,32741486,34319541,34319541,34319541,34319541,34319541,35146976,35146976,35146976,35146976,35146976'}, {'mention': 'ADH', 'type': 'gene', 'pmid': '34898594,34898594'}]\n",
      "[]\n"
     ]
    },
    {
     "ename": "TypeError",
     "evalue": "'<' not supported between instances of 'DegreeView' and 'DegreeView'",
     "output_type": "error",
     "traceback": [
      "\u001b[0;31m---------------------------------------------------------------------------\u001b[0m",
      "\u001b[0;31mTypeError\u001b[0m                                 Traceback (most recent call last)",
      "\u001b[1;32m/Users/pier/CHL/ProgettoBIO/test.ipynb Cell 5'\u001b[0m in \u001b[0;36m<cell line: 1>\u001b[0;34m()\u001b[0m\n\u001b[0;32m----> <a href='vscode-notebook-cell:/Users/pier/CHL/ProgettoBIO/test.ipynb#ch0000006?line=0'>1</a>\u001b[0m nodes \u001b[39m=\u001b[39m filter_by_category(G, \u001b[39m'\u001b[39;49m\u001b[39mgene\u001b[39;49m\u001b[39m'\u001b[39;49m)\n\u001b[1;32m      <a href='vscode-notebook-cell:/Users/pier/CHL/ProgettoBIO/test.ipynb#ch0000006?line=1'>2</a>\u001b[0m nodes\n",
      "File \u001b[0;32m~/CHL/ProgettoBIO/pubmad/utils.py:662\u001b[0m, in \u001b[0;36mfilter_by_category\u001b[0;34m(G, category, max_number_of_nodes, sort_by)\u001b[0m\n\u001b[1;32m    <a href='file:///Users/pier/CHL/ProgettoBIO/pubmad/utils.py?line=658'>659</a>\u001b[0m \u001b[39mprint\u001b[39m(G\u001b[39m.\u001b[39mdegree(nodes[\u001b[39m0\u001b[39m]))\n\u001b[1;32m    <a href='file:///Users/pier/CHL/ProgettoBIO/pubmad/utils.py?line=660'>661</a>\u001b[0m \u001b[39mif\u001b[39;00m sort_by \u001b[39m==\u001b[39m \u001b[39m'\u001b[39m\u001b[39mdegree\u001b[39m\u001b[39m'\u001b[39m:\n\u001b[0;32m--> <a href='file:///Users/pier/CHL/ProgettoBIO/pubmad/utils.py?line=661'>662</a>\u001b[0m     nodes \u001b[39m=\u001b[39m \u001b[39msorted\u001b[39;49m(nodes, key\u001b[39m=\u001b[39;49m\u001b[39mlambda\u001b[39;49;00m x: G\u001b[39m.\u001b[39;49mdegree(x), reverse\u001b[39m=\u001b[39;49m\u001b[39mTrue\u001b[39;49;00m)\n\u001b[1;32m    <a href='file:///Users/pier/CHL/ProgettoBIO/pubmad/utils.py?line=662'>663</a>\u001b[0m \u001b[39melif\u001b[39;00m sort_by \u001b[39m==\u001b[39m \u001b[39m'\u001b[39m\u001b[39mname\u001b[39m\u001b[39m'\u001b[39m:\n\u001b[1;32m    <a href='file:///Users/pier/CHL/ProgettoBIO/pubmad/utils.py?line=663'>664</a>\u001b[0m     nodes \u001b[39m=\u001b[39m \u001b[39msorted\u001b[39m(nodes, key\u001b[39m=\u001b[39m\u001b[39mlambda\u001b[39;00m x: x[\u001b[39m'\u001b[39m\u001b[39mmention\u001b[39m\u001b[39m'\u001b[39m])\n",
      "\u001b[0;31mTypeError\u001b[0m: '<' not supported between instances of 'DegreeView' and 'DegreeView'"
     ]
    }
   ],
   "source": [
    "nodes = filter_by_category(G, 'gene')\n",
    "nodes"
   ]
  },
  {
   "cell_type": "code",
   "execution_count": null,
   "metadata": {},
   "outputs": [],
   "source": []
  }
 ],
 "metadata": {
  "interpreter": {
   "hash": "8b7c16359717de098f152fdf0664953238539e09bf9d93ae740497f038cf1086"
  },
  "kernelspec": {
   "display_name": "Python 3.9.12 ('biosearch')",
   "language": "python",
   "name": "python3"
  },
  "language_info": {
   "codemirror_mode": {
    "name": "ipython",
    "version": 3
   },
   "file_extension": ".py",
   "mimetype": "text/x-python",
   "name": "python",
   "nbconvert_exporter": "python",
   "pygments_lexer": "ipython3",
   "version": "3.9.12"
  },
  "orig_nbformat": 4
 },
 "nbformat": 4,
 "nbformat_minor": 2
}
